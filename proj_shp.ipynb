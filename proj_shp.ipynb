{
 "cells": [
  {
   "cell_type": "code",
   "execution_count": 11,
   "metadata": {},
   "outputs": [],
   "source": [
    "import geopandas as gpd\n",
    "import matplotlib.pyplot as plt\n",
    "import pandas as pd\n",
    "import codecs\n",
    "import shapefile"
   ]
  },
  {
   "cell_type": "code",
   "execution_count": 1,
   "metadata": {},
   "outputs": [],
   "source": [
    "# track_df = gpd.read_file(\"polylines3.shp\")\n",
    "# See error when remove comment above"
   ]
  },
  {
   "cell_type": "code",
   "execution_count": 8,
   "metadata": {},
   "outputs": [
    {
     "name": "stdout",
     "output_type": "stream",
     "text": [
      "<_io.TextIOWrapper name='polylines3.shp' mode='r' encoding='UTF-8'>\n",
      "Error: <class 'fiona.ogrext.FeatureBuilder'> returned a result with an exception set\n"
     ]
    }
   ],
   "source": [
    "# Track Shapefile\n",
    "\n",
    "with open(\"polylines3.shp\") as f:\n",
    "    print(f)\n",
    "\n",
    "try:\n",
    "    track_df = gpd.read_file(\"polylines3.shp\")\n",
    "    \n",
    "    print(track_df.head())  # Display the first few rows of the GeoDataFrame\n",
    "except FileNotFoundError:\n",
    "    print(\"Error: Shapefile not found.\")\n",
    "except Exception as e:\n",
    "    print(f\"Error: {e}\")"
   ]
  },
  {
   "cell_type": "code",
   "execution_count": 38,
   "metadata": {},
   "outputs": [
    {
     "name": "stdout",
     "output_type": "stream",
     "text": [
      "Shape: Shape #0: POLYLINE\n",
      "Cleaned Attributes: [0, 'Melbourne (Albert Pa', None, None]\n",
      "Shape: Shape #1: POLYLINE\n",
      "Cleaned Attributes: [None, '0 81      1Bahrain', None, None]\n",
      "Shape: Shape #2: POLYLINE\n",
      "Cleaned Attributes: [None, 't         0 81', None, None]\n",
      "Shape: Shape #3: POLYLINE\n",
      "Cleaned Attributes: [None, '7Circuit Paul R', None, None]\n",
      "Shape: Shape #4: POLYLINE\n",
      "Cleaned Attributes: [None, '0 81      9', None, None]\n",
      "Shape: Shape #5: POLYLINE\n",
      "Cleaned Attributes: [None, '0 81     12', None, None]\n",
      "Shape: Shape #6: POLYLINE\n",
      "Cleaned Attributes: [None, 'dromo Hermanos Rodrí', None, None]\n"
     ]
    }
   ],
   "source": [
    "import shapefile\n",
    "import chardet\n",
    "\n",
    "def clean_attribute(attribute):\n",
    "    # Ensure that the attribute is a bytes object\n",
    "    if isinstance(attribute, bytes):\n",
    "        # Replace problematic characters or byte sequences\n",
    "        cleaned_attribute = attribute.replace(b'\\xed', b'')\n",
    "    elif isinstance(attribute, str):\n",
    "        # If it's a string, encode it as bytes and then decode it after replacing\n",
    "        cleaned_attribute = attribute.encode('utf-8').replace(b'\\xed', b'').decode('utf-8')\n",
    "    else:\n",
    "        # If it's neither bytes nor string, return it as it is\n",
    "        cleaned_attribute = attribute\n",
    "    return cleaned_attribute\n",
    "\n",
    "shapefile_path = \"polylines3.shp\"\n",
    "\n",
    "try:\n",
    "    # Use chardet to detect the encoding of the shapefile\n",
    "    with open(shapefile_path, 'rb') as f:\n",
    "        raw_data = f.read()\n",
    "        detected_encoding = chardet.detect(raw_data)['encoding']\n",
    "\n",
    "    # Set a default encoding if the detected encoding is None\n",
    "    encoding = detected_encoding if detected_encoding else 'latin-1'\n",
    "\n",
    "    with shapefile.Reader(shapefile_path, encoding=encoding) as shp:\n",
    "        # Access shapefile contents\n",
    "        for shape_record in shp.iterShapeRecords():\n",
    "            # Process shape record\n",
    "            shape = shape_record.shape\n",
    "            cleaned_attributes = [clean_attribute(attr) for attr in shape_record.record]\n",
    "            print(\"Shape:\", shape)\n",
    "            print(\"Cleaned Attributes:\", cleaned_attributes)\n",
    "except shapefile.ShapefileException as e:\n",
    "    print(\"Error reading shapefile:\", e)\n",
    "except Exception as e:\n",
    "    print(\"Error:\", e)\n",
    "\n"
   ]
  }
 ],
 "metadata": {
  "kernelspec": {
   "display_name": "venv",
   "language": "python",
   "name": "python3"
  },
  "language_info": {
   "codemirror_mode": {
    "name": "ipython",
    "version": 3
   },
   "file_extension": ".py",
   "mimetype": "text/x-python",
   "name": "python",
   "nbconvert_exporter": "python",
   "pygments_lexer": "ipython3",
   "version": "3.12.1"
  }
 },
 "nbformat": 4,
 "nbformat_minor": 2
}
