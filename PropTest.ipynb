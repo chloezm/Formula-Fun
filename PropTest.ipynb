{
 "cells": [
  {
   "cell_type": "code",
   "execution_count": 1,
   "metadata": {},
   "outputs": [
    {
     "name": "stdout",
     "output_type": "stream",
     "text": [
      "success\n"
     ]
    }
   ],
   "source": [
    "# import libraries\n",
    "import pandas as pd\n",
    "import matplotlib.pyplot as plt\n",
    "import seaborn as sns\n",
    "from scipy import stats\n",
    "import numpy as np\n",
    "from statsmodels.stats.proportion import proportions_ztest\n",
    "print(\"success\")\n",
    "# read csv file \n",
    "f1_results2018_df = pd.read_csv(\"Formula1_2018Season_RaceResults.csv\")\n"
   ]
  },
  {
   "cell_type": "code",
   "execution_count": 2,
   "metadata": {},
   "outputs": [
    {
     "name": "stdout",
     "output_type": "stream",
     "text": [
      "Test Statistic (Z): 2.053577809137462\n",
      "Standard Error: 0.10898516862311035\n",
      "Confidence Interval: (0.31020251845920277, 0.7374165291598449)\n",
      "P-value: 0.04001657174220637\n",
      "Mercedes has significantly more than 30% of the best lap times per track.\n"
     ]
    }
   ],
   "source": [
    "# Perform one-sample proportion test\n",
    "count = 11\n",
    "nobs = 21\n",
    "value = 0.30 # Testing 30% as Mercedes is one of top 3 teams\n",
    "alternative = 'two-sided' # See if there is a change, whether larger or smaller\n",
    "\n",
    "# Proportion and standard error\n",
    "proportion = count / nobs\n",
    "standard_error = np.sqrt(proportion * (1 - proportion) / nobs)\n",
    "\n",
    "# Confidence interval\n",
    "z_critical = np.abs(stats.norm.ppf(0.025))  # For a 95% confidence interval\n",
    "margin_of_error = z_critical * standard_error\n",
    "confidence_interval = (proportion - margin_of_error, proportion + margin_of_error)\n",
    "\n",
    "# Z-test\n",
    "z_stat, p_value = proportions_ztest(count, nobs, value, alternative=alternative)\n",
    "\n",
    "print(\"Test Statistic (Z):\", z_stat)\n",
    "print(\"Standard Error:\", standard_error)\n",
    "print(\"Confidence Interval:\", confidence_interval)\n",
    "print(\"P-value:\", p_value)\n",
    "\n",
    "# Check for significance at alpha = 0.05\n",
    "if p_value < 0.05:\n",
    "    print(\"Mercedes has significantly more than 30% of the best lap times per track.\")\n",
    "else:\n",
    "    print(\"Mercedes does not have significantly more than 30% of the best lap times per track.\")"
   ]
  }
 ],
 "metadata": {
  "kernelspec": {
   "display_name": "venv",
   "language": "python",
   "name": "python3"
  },
  "language_info": {
   "codemirror_mode": {
    "name": "ipython",
    "version": 3
   },
   "file_extension": ".py",
   "mimetype": "text/x-python",
   "name": "python",
   "nbconvert_exporter": "python",
   "pygments_lexer": "ipython3",
   "version": "3.12.1"
  }
 },
 "nbformat": 4,
 "nbformat_minor": 2
}
